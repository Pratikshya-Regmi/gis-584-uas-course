{
  "cells": [
    {
      "cell_type": "raw",
      "metadata": {},
      "source": [
        "---\n",
        "title: \"UAS Flight Planning\"\n",
        "subtitle: \"Topic 3: UAS Flight Planning\"\n",
        "date: 9/16/2024\n",
        "Topic: \"Topic 3: UAS Flight Planning\"\n",
        "# assignment-due-date: 8/21/2024\n",
        "---"
      ],
      "id": "c0f1a977"
    },
    {
      "cell_type": "markdown",
      "metadata": {},
      "source": [
        "## Outline\n",
        "\n",
        "- Defining the data collection purpose\n",
        "- Survey area, take off and landing locations\n",
        "- Terrain and weather conditions\n",
        "- Safe flight\n",
        "- Flight parameters\n",
        "- Flight planning and management platforms\n",
        "\n",
        "## Lecture\n",
        "\n",
        "- [Flight planning introduction]()\n",
        "- [Flight plan analysis in GIS](https://ncsu-geoforall-lab.github.io/uav-lidar-analytics-course/lectures/flight_analysis.html)\n",
        "- Lecture recordings - parts 1, 2, 3\n",
        "- Recording of the Intro to flight planning in eMotion software\n",
        "\n",
        "## Supplemental materials\n",
        "\n",
        "### Flight - watch the following if you were unable to attend the flight session\n",
        "\n",
        "- Fixed wing flight (eBee X): [set up](https://youtu.be/jBgrxB6-pj4), [launch](https://youtu.be/BlsHC1kSrE4) and [landing](https://youtu.be/_9o2zZMSXOw)\n",
        "- Vertical take-off (VTOL) fixed wing flight with [Wingtra drone](https://youtu.be/ra1sMJzibjY)\n",
        "- Rotary wing flight (Phantom)\n",
        "    - Flight with [Drone Deploy flight](https://youtu.be/1OnZPV1HeQs) planning app\n",
        "    - Flight with [Pix4D Capture flight](https://youtu.be/nV_7d6YdYTc) planning app\n",
        "\n",
        "### Flight planning and management platforms\n",
        "\n",
        "<!-- TODO Update this info -->\n",
        "- Skyward [website](https://skyward.io/) and [trial request](https://skyward.io/pricing/)\n",
        "- eMotion 3 [installer](https://drive.google.com/open?id=1Na_A4QGyJYRGDT5WUjWyxjIGZvE4uJzn) and [manual](https://drive.google.com/open?id=1qmRIbpE1K_xji2BbZDaKXnOUqZ-NlPAb)\n",
        "\n",
        "## Assignment\n",
        "\n",
        "Prepare a flight plan:\n",
        "\n",
        "- [Flight planning in eMotion 3 software]()\n",
        "- [Flight plan analysis in GRASS GIS](assignments/assignment_1a_grass.qmd)\n",
        "\n",
        "## Homework\n",
        "\n",
        "Prepare a report on the flight plan: purpose, permits, map of the area boundary, with take off, landing, locations, ground control points and flight altitude analysis.\n"
      ],
      "id": "f59393e7"
    },
    {
      "cell_type": "code",
      "metadata": {},
      "source": [
        "from ipyleaflet import Map, Marker, basemaps, basemap_to_tiles\n",
        "m = Map(\n",
        "  basemap=basemap_to_tiles(\n",
        "    basemaps.NASAGIBS.ModisTerraTrueColorCR, \"2017-04-08\"\n",
        "  ),\n",
        "  center=(52.204793, 360.121558),\n",
        "  zoom=4\n",
        ")\n",
        "m.add_layer(Marker(location=(52.204793, 360.121558)))\n",
        "m"
      ],
      "id": "85f58bc2",
      "execution_count": null,
      "outputs": []
    }
  ],
  "metadata": {
    "kernelspec": {
      "name": "python3",
      "language": "python",
      "display_name": "Python 3 (ipykernel)"
    }
  },
  "nbformat": 4,
  "nbformat_minor": 5
}